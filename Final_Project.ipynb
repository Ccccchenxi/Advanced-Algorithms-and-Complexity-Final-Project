{
 "cells": [
  {
   "cell_type": "code",
   "execution_count": 6,
   "id": "c93a397c-2393-41d1-8937-70d611e018cf",
   "metadata": {},
   "outputs": [
    {
     "data": {
      "text/html": [
       "<div>\n",
       "<style scoped>\n",
       "    .dataframe tbody tr th:only-of-type {\n",
       "        vertical-align: middle;\n",
       "    }\n",
       "\n",
       "    .dataframe tbody tr th {\n",
       "        vertical-align: top;\n",
       "    }\n",
       "\n",
       "    .dataframe thead th {\n",
       "        text-align: right;\n",
       "    }\n",
       "</style>\n",
       "<table border=\"1\" class=\"dataframe\">\n",
       "  <thead>\n",
       "    <tr style=\"text-align: right;\">\n",
       "      <th></th>\n",
       "      <th>time</th>\n",
       "      <th>AQI</th>\n",
       "      <th>PM25</th>\n",
       "      <th>PM10</th>\n",
       "      <th>So2</th>\n",
       "      <th>No2</th>\n",
       "      <th>Co</th>\n",
       "      <th>O3</th>\n",
       "    </tr>\n",
       "  </thead>\n",
       "  <tbody>\n",
       "    <tr>\n",
       "      <th>0</th>\n",
       "      <td>2022/3/1 0:00</td>\n",
       "      <td>112</td>\n",
       "      <td>22</td>\n",
       "      <td>120</td>\n",
       "      <td>6</td>\n",
       "      <td>12</td>\n",
       "      <td>0.58</td>\n",
       "      <td>79</td>\n",
       "    </tr>\n",
       "    <tr>\n",
       "      <th>1</th>\n",
       "      <td>2022/3/2 0:00</td>\n",
       "      <td>162</td>\n",
       "      <td>31</td>\n",
       "      <td>92</td>\n",
       "      <td>14</td>\n",
       "      <td>33</td>\n",
       "      <td>0.95</td>\n",
       "      <td>58</td>\n",
       "    </tr>\n",
       "    <tr>\n",
       "      <th>2</th>\n",
       "      <td>2022/3/3 0:00</td>\n",
       "      <td>186</td>\n",
       "      <td>50</td>\n",
       "      <td>126</td>\n",
       "      <td>19</td>\n",
       "      <td>44</td>\n",
       "      <td>1.30</td>\n",
       "      <td>53</td>\n",
       "    </tr>\n",
       "    <tr>\n",
       "      <th>3</th>\n",
       "      <td>2022/3/4 0:00</td>\n",
       "      <td>286</td>\n",
       "      <td>38</td>\n",
       "      <td>135</td>\n",
       "      <td>11</td>\n",
       "      <td>28</td>\n",
       "      <td>0.76</td>\n",
       "      <td>69</td>\n",
       "    </tr>\n",
       "    <tr>\n",
       "      <th>4</th>\n",
       "      <td>2022/3/5 0:00</td>\n",
       "      <td>285</td>\n",
       "      <td>37</td>\n",
       "      <td>187</td>\n",
       "      <td>11</td>\n",
       "      <td>22</td>\n",
       "      <td>0.62</td>\n",
       "      <td>68</td>\n",
       "    </tr>\n",
       "  </tbody>\n",
       "</table>\n",
       "</div>"
      ],
      "text/plain": [
       "            time  AQI  PM25  PM10  So2  No2    Co  O3\n",
       "0  2022/3/1 0:00  112    22   120    6   12  0.58  79\n",
       "1  2022/3/2 0:00  162    31    92   14   33  0.95  58\n",
       "2  2022/3/3 0:00  186    50   126   19   44  1.30  53\n",
       "3  2022/3/4 0:00  286    38   135   11   28  0.76  69\n",
       "4  2022/3/5 0:00  285    37   187   11   22  0.62  68"
      ]
     },
     "execution_count": 6,
     "metadata": {},
     "output_type": "execute_result"
    }
   ],
   "source": [
    "import pandas as pd\n",
    "\n",
    "# Load the dataset\n",
    "file_path = 'UAQ-Time.csv'\n",
    "uaq_data = pd.read_csv(file_path)\n",
    "\n",
    "# Display the first few rows of the dataset to understand its structure\n",
    "uaq_data.head()"
   ]
  },
  {
   "cell_type": "markdown",
   "id": "20a673be-d8d5-4936-b8df-5d7f630a054e",
   "metadata": {},
   "source": [
    "## 1 Linear Regression Analysis"
   ]
  },
  {
   "cell_type": "code",
   "execution_count": 7,
   "id": "118b4d5b-dd02-4dbb-8fec-35d214284007",
   "metadata": {},
   "outputs": [
    {
     "data": {
      "text/plain": [
       "(time    0\n",
       " AQI     0\n",
       " PM25    0\n",
       " PM10    0\n",
       " So2     0\n",
       " No2     0\n",
       " Co      0\n",
       " O3      0\n",
       " dtype: int64,\n",
       "                AQI         PM25         PM10          So2          No2  \\\n",
       " count  2602.000000  2602.000000  2602.000000  2602.000000  2602.000000   \n",
       " mean    103.371637    67.705995   120.745965    22.170638    35.660261   \n",
       " std      57.504076    50.309057    74.772810    21.850759    17.207507   \n",
       " min      19.000000     6.000000     8.000000     1.000000     3.000000   \n",
       " 25%      68.000000    36.000000    73.000000     9.000000    23.000000   \n",
       " 50%      87.000000    53.000000   103.000000    14.000000    32.000000   \n",
       " 75%     119.000000    83.000000   146.000000    27.000000    45.000000   \n",
       " max     493.000000   547.000000   807.000000   196.000000   123.000000   \n",
       " \n",
       "                 Co           O3  \n",
       " count  2602.000000  2602.000000  \n",
       " mean      1.253774    70.569946  \n",
       " std       0.754783    37.645444  \n",
       " min       0.240000     3.000000  \n",
       " 25%       0.780000    42.000000  \n",
       " 50%       1.090000    67.000000  \n",
       " 75%       1.470000    95.000000  \n",
       " max       8.170000   215.000000  )"
      ]
     },
     "execution_count": 7,
     "metadata": {},
     "output_type": "execute_result"
    }
   ],
   "source": [
    "# Check for missing values and basic statistics of the dataset\n",
    "missing_values = uaq_data.isnull().sum()\n",
    "basic_statistics = uaq_data.describe()\n",
    "\n",
    "missing_values, basic_statistics"
   ]
  },
  {
   "cell_type": "code",
   "execution_count": 8,
   "id": "638282fc-e6d1-4996-b46b-ada73b5cc202",
   "metadata": {},
   "outputs": [
    {
     "data": {
      "text/plain": [
       "array([11.21395847,  0.57511814,  0.42870641, -0.05096394, -0.11083906,\n",
       "        0.30198856,  0.08726081])"
      ]
     },
     "execution_count": 8,
     "metadata": {},
     "output_type": "execute_result"
    }
   ],
   "source": [
    "import numpy as np\n",
    "\n",
    "# Selecting features and target variable\n",
    "features = uaq_data[['PM25', 'PM10', 'So2', 'No2', 'Co', 'O3']]\n",
    "target = uaq_data['AQI']\n",
    "\n",
    "# Converting to numpy arrays\n",
    "X = features.to_numpy()\n",
    "y = target.to_numpy()\n",
    "\n",
    "# Adding a column of ones to X for the intercept\n",
    "X = np.hstack([np.ones((X.shape[0], 1)), X])\n",
    "\n",
    "# Linear Regression using Normal Equation\n",
    "def linear_regression(X, y):\n",
    "    # Normal Equation: (X^T * X)^-1 * X^T * y\n",
    "    theta = np.linalg.inv(X.T @ X) @ X.T @ y\n",
    "    return theta\n",
    "\n",
    "# Train the model\n",
    "theta = linear_regression(X, y)\n",
    "\n",
    "# Display the coefficients\n",
    "theta"
   ]
  },
  {
   "cell_type": "markdown",
   "id": "9c985e66-3938-43fd-aadc-ddbdee098342",
   "metadata": {},
   "source": [
    "**Positive Coefficients (PM2.5, PM10, Co, O3)**: Higher concentrations of these pollutants are associated with an increase in AQI.  \n",
    "**Negative Coefficients (So2, No2)**: Higher concentrations of these pollutants are, associated with a decrease in AQI. This could be due to multicollinearity or other underlying factors in the data."
   ]
  },
  {
   "cell_type": "code",
   "execution_count": 9,
   "id": "8eb02269-3a1f-4985-8820-8a99452365b2",
   "metadata": {},
   "outputs": [
    {
     "data": {
      "text/plain": [
       "0.9629788793689397"
      ]
     },
     "execution_count": 9,
     "metadata": {},
     "output_type": "execute_result"
    }
   ],
   "source": [
    "def calculate_r_squared(X, y, theta):\n",
    "    # Predictions\n",
    "    y_pred = X @ theta\n",
    "\n",
    "    # Total sum of squares\n",
    "    ss_total = np.sum((y - np.mean(y)) ** 2)\n",
    "\n",
    "    # Residual sum of squares\n",
    "    ss_res = np.sum((y - y_pred) ** 2)\n",
    "\n",
    "    # R-squared\n",
    "    r_squared = 1 - (ss_res / ss_total)\n",
    "    return r_squared\n",
    "\n",
    "# Calculate R-squared\n",
    "r_squared = calculate_r_squared(X, y, theta)\n",
    "r_squared"
   ]
  },
  {
   "cell_type": "markdown",
   "id": "71d4007e-9c91-4782-9ce7-ee595499b6bc",
   "metadata": {},
   "source": [
    "The R-squared value for our linear regression model is approximately 0.963. This indicates that the model explains about 96.3% of the variance in the AQI based on the given pollutants. This is a very high value, suggesting that the model fits the data well."
   ]
  },
  {
   "cell_type": "markdown",
   "id": "96454a04-cc96-4e28-aa7d-12f2fc946f24",
   "metadata": {},
   "source": [
    "### In-Depth Analysis"
   ]
  },
  {
   "cell_type": "code",
   "execution_count": 29,
   "id": "1ad089c7-d569-4002-a13f-84d89016f8cd",
   "metadata": {},
   "outputs": [
    {
     "data": {
      "text/plain": [
       "(array([11.21395847,  0.57511814,  0.42870641, -0.05096394, -0.11083906,\n",
       "         0.30198856,  0.08726081]),\n",
       " 0.9629788793689397)"
      ]
     },
     "execution_count": 29,
     "metadata": {},
     "output_type": "execute_result"
    }
   ],
   "source": [
    "# Step 1: Data Preparation\n",
    "# Using the previously loaded data (uaq_data), select features and target\n",
    "X = uaq_data[['PM25', 'PM10', 'So2', 'No2', 'Co', 'O3']].to_numpy()\n",
    "y = uaq_data['AQI'].to_numpy()\n",
    "\n",
    "# Adding a column of ones to X for the intercept\n",
    "X = np.hstack([np.ones((X.shape[0], 1)), X])\n",
    "\n",
    "# Step 2: Model Creation - Linear Regression using Normal Equation\n",
    "def linear_regression(X, y):\n",
    "    return np.linalg.inv(X.T @ X) @ X.T @ y\n",
    "\n",
    "theta = linear_regression(X, y)\n",
    "\n",
    "# Step 3: Model Evaluation - Calculate R-squared\n",
    "r_squared = calculate_r_squared(X, y, theta)\n",
    "\n",
    "theta, r_squared"
   ]
  },
  {
   "cell_type": "markdown",
   "id": "56add7ca-d9b4-4c5d-852e-9bbe96e35a2c",
   "metadata": {},
   "source": [
    "**Intercept**: 11.21  \n",
    "**PM2.5**: 0.575  \n",
    "**PM10**: 0.429  \n",
    "**So2**: -0.051  \n",
    "**No2**: -0.111  \n",
    "**Co**: 0.302  \n",
    "**O3**: 0.087"
   ]
  },
  {
   "cell_type": "markdown",
   "id": "5c80c686-12f4-4375-97ba-871edbab45d0",
   "metadata": {},
   "source": [
    "**Coefficient Interpretation**:\n",
    "\n",
    "- Positive Coefficients (PM2.5, PM10, Co, O3): Increases in these pollutants are associated with an increase in AQI, indicating a direct relationship with air quality deterioration.  \n",
    "- Negative Coefficients (So2, No2): Surprisingly, these pollutants show a negative association with AQI. This might be due to the specific composition of the dataset or could indicate a more complex interplay with other pollutants and factors not captured in the model.\n",
    "\n",
    "\n",
    "**Model Performance (R-squared)**:\n",
    "\n",
    "- The R-squared value of approximately 0.963 suggests that the model explains about 96.3% of the variance in AQI. This high value indicates a good fit to the data, but it also warrants a check for potential overfitting, especially if used for predictive purposes outside the dataset.\n",
    "\n",
    "  \n",
    "**Implications**:\n",
    "\n",
    "- Policy and Health: The model's insights into which pollutants most significantly impact AQI can guide environmental policies and public health initiatives.  \n",
    "- Predictive Use: The model can be used for forecasting AQI, helping in preemptive measures to protect public health, especially in urban areas.\n",
    "\n",
    "  \n",
    "**Limitations**:\n",
    "\n",
    "- Causality: Linear regression does not imply causality. The relationships are associative.  \n",
    "- Data Dependency: The findings are specific to the dataset and time frame. Different regions or periods might exhibit different pollution dynamics."
   ]
  },
  {
   "cell_type": "markdown",
   "id": "4de0d272-5ae2-44ed-86cb-414c620848cf",
   "metadata": {},
   "source": [
    "## 2 Markov Chain Analysis"
   ]
  },
  {
   "cell_type": "code",
   "execution_count": 10,
   "id": "0402f427-4292-40e8-99c1-472ed8cbbc43",
   "metadata": {},
   "outputs": [
    {
     "data": {
      "text/html": [
       "<div>\n",
       "<style scoped>\n",
       "    .dataframe tbody tr th:only-of-type {\n",
       "        vertical-align: middle;\n",
       "    }\n",
       "\n",
       "    .dataframe tbody tr th {\n",
       "        vertical-align: top;\n",
       "    }\n",
       "\n",
       "    .dataframe thead th {\n",
       "        text-align: right;\n",
       "    }\n",
       "</style>\n",
       "<table border=\"1\" class=\"dataframe\">\n",
       "  <thead>\n",
       "    <tr style=\"text-align: right;\">\n",
       "      <th></th>\n",
       "      <th>time</th>\n",
       "      <th>AQI</th>\n",
       "      <th>AQI_Category</th>\n",
       "    </tr>\n",
       "  </thead>\n",
       "  <tbody>\n",
       "    <tr>\n",
       "      <th>0</th>\n",
       "      <td>2022/3/1 0:00</td>\n",
       "      <td>112</td>\n",
       "      <td>High</td>\n",
       "    </tr>\n",
       "    <tr>\n",
       "      <th>1</th>\n",
       "      <td>2022/3/2 0:00</td>\n",
       "      <td>162</td>\n",
       "      <td>High</td>\n",
       "    </tr>\n",
       "    <tr>\n",
       "      <th>2</th>\n",
       "      <td>2022/3/3 0:00</td>\n",
       "      <td>186</td>\n",
       "      <td>High</td>\n",
       "    </tr>\n",
       "    <tr>\n",
       "      <th>3</th>\n",
       "      <td>2022/3/4 0:00</td>\n",
       "      <td>286</td>\n",
       "      <td>High</td>\n",
       "    </tr>\n",
       "    <tr>\n",
       "      <th>4</th>\n",
       "      <td>2022/3/5 0:00</td>\n",
       "      <td>285</td>\n",
       "      <td>High</td>\n",
       "    </tr>\n",
       "  </tbody>\n",
       "</table>\n",
       "</div>"
      ],
      "text/plain": [
       "            time  AQI AQI_Category\n",
       "0  2022/3/1 0:00  112         High\n",
       "1  2022/3/2 0:00  162         High\n",
       "2  2022/3/3 0:00  186         High\n",
       "3  2022/3/4 0:00  286         High\n",
       "4  2022/3/5 0:00  285         High"
      ]
     },
     "execution_count": 10,
     "metadata": {},
     "output_type": "execute_result"
    }
   ],
   "source": [
    "# Defining AQI categories\n",
    "def categorize_aqi(aqi):\n",
    "    if aqi <= 50:\n",
    "        return 'Low'\n",
    "    elif 50 < aqi <= 100:\n",
    "        return 'Moderate'\n",
    "    else:\n",
    "        return 'High'\n",
    "\n",
    "# Apply categorization to the AQI data\n",
    "uaq_data['AQI_Category'] = uaq_data['AQI'].apply(categorize_aqi)\n",
    "\n",
    "# Display the first few rows to verify the categorization\n",
    "uaq_data[['time', 'AQI', 'AQI_Category']].head()"
   ]
  },
  {
   "cell_type": "code",
   "execution_count": 11,
   "id": "5b3ddcfe-6d48-4575-9b3b-582247f90a4e",
   "metadata": {},
   "outputs": [
    {
     "data": {
      "text/html": [
       "<div>\n",
       "<style scoped>\n",
       "    .dataframe tbody tr th:only-of-type {\n",
       "        vertical-align: middle;\n",
       "    }\n",
       "\n",
       "    .dataframe tbody tr th {\n",
       "        vertical-align: top;\n",
       "    }\n",
       "\n",
       "    .dataframe thead th {\n",
       "        text-align: right;\n",
       "    }\n",
       "</style>\n",
       "<table border=\"1\" class=\"dataframe\">\n",
       "  <thead>\n",
       "    <tr style=\"text-align: right;\">\n",
       "      <th></th>\n",
       "      <th>Low</th>\n",
       "      <th>Moderate</th>\n",
       "      <th>High</th>\n",
       "    </tr>\n",
       "  </thead>\n",
       "  <tbody>\n",
       "    <tr>\n",
       "      <th>Low</th>\n",
       "      <td>0.500000</td>\n",
       "      <td>0.495050</td>\n",
       "      <td>0.004950</td>\n",
       "    </tr>\n",
       "    <tr>\n",
       "      <th>Moderate</th>\n",
       "      <td>0.062845</td>\n",
       "      <td>0.741022</td>\n",
       "      <td>0.196133</td>\n",
       "    </tr>\n",
       "    <tr>\n",
       "      <th>High</th>\n",
       "      <td>0.010515</td>\n",
       "      <td>0.289169</td>\n",
       "      <td>0.700315</td>\n",
       "    </tr>\n",
       "  </tbody>\n",
       "</table>\n",
       "</div>"
      ],
      "text/plain": [
       "               Low  Moderate      High\n",
       "Low       0.500000  0.495050  0.004950\n",
       "Moderate  0.062845  0.741022  0.196133\n",
       "High      0.010515  0.289169  0.700315"
      ]
     },
     "execution_count": 11,
     "metadata": {},
     "output_type": "execute_result"
    }
   ],
   "source": [
    "def calculate_transition_matrix(data):\n",
    "    # States\n",
    "    states = ['Low', 'Moderate', 'High']\n",
    "\n",
    "    # Initialize the transition matrix with zeros\n",
    "    transition_matrix = pd.DataFrame(0, index=states, columns=states, dtype=float)\n",
    "\n",
    "    # Count the transitions\n",
    "    for (current_state, next_state) in zip(data, data[1:]):\n",
    "        transition_matrix.at[current_state, next_state] += 1\n",
    "\n",
    "    # Normalize the rows to get probabilities\n",
    "    transition_matrix = transition_matrix.div(transition_matrix.sum(axis=1), axis=0)\n",
    "    return transition_matrix\n",
    "\n",
    "# Calculate the transition matrix\n",
    "transition_matrix = calculate_transition_matrix(uaq_data['AQI_Category'])\n",
    "transition_matrix"
   ]
  },
  {
   "cell_type": "markdown",
   "id": "81fc6229-a25b-408e-b0f8-fabc5cf096a5",
   "metadata": {},
   "source": [
    "**Low AQI State**: There's a 50% chance of staying in the 'Low' state and a 49.5% chance of moving to the 'Moderate' state. The probability of jumping directly to a 'High' state is very low (0.5%).  \n",
    "**Moderate AQI State**: From a 'Moderate' state, there's a 74.1% chance of staying in the same state, a 19.6% chance of moving to a 'High' state, and a 6.3% chance of dropping to a 'Low' state.  \n",
    "**High AQI State**: Once in the 'High' state, there's a 70% chance of staying there, and lesser chances of moving to 'Moderate' (28.9%) or 'Low' (1.1%) states."
   ]
  },
  {
   "cell_type": "markdown",
   "id": "f2ff51bb-9c7c-461f-9564-51a8921ef3d4",
   "metadata": {},
   "source": [
    "### In-Depth Analysis"
   ]
  },
  {
   "cell_type": "code",
   "execution_count": 30,
   "id": "a9ac63ad-d36b-4e92-870f-d97a798efbeb",
   "metadata": {},
   "outputs": [
    {
     "data": {
      "text/plain": [
       "(               Low  Moderate      High\n",
       " Low       0.500000  0.495050  0.004950\n",
       " Moderate  0.062845  0.741022  0.196133\n",
       " High      0.010515  0.289169  0.700315,\n",
       " Low         0.077662\n",
       " Moderate    0.556709\n",
       " High        0.365629\n",
       " dtype: float64)"
      ]
     },
     "execution_count": 30,
     "metadata": {},
     "output_type": "execute_result"
    }
   ],
   "source": [
    "# Step 1: Define States - Already done in previous analysis\n",
    "# The states are 'Low', 'Moderate', and 'High' based on AQI\n",
    "\n",
    "# Step 2: Transition Matrix Calculation\n",
    "# Reusing the calculate_transition_matrix function defined earlier\n",
    "transition_matrix = calculate_transition_matrix(uaq_data['AQI_Category'])\n",
    "\n",
    "# Step 3: Steady-State Analysis\n",
    "# Reusing the calculate_steady_state function defined earlier\n",
    "steady_state_distribution = pd.Series(calculate_steady_state(transition_matrix), index=transition_matrix.columns)\n",
    "\n",
    "transition_matrix, steady_state_distribution"
   ]
  },
  {
   "cell_type": "markdown",
   "id": "b7e64915-5e71-45f9-8a2b-f7c7b1cc928e",
   "metadata": {},
   "source": [
    "Transition Matrix:  \n",
    "-  **Low State**: 50% chance of staying 'Low', 49.5% of transitioning to 'Moderate', 0.5% to 'High'.  \n",
    "-  **Moderate State**: 6.3% chance of transitioning to 'Low', 74.1% of staying 'Moderate', 19.6% to 'High'.  \n",
    "-  **High State**: 1.1% chance of transitioning to 'Low', 28.9% to 'Moderate', 70% of staying 'High'.\n",
    "\n",
    "Steady-State Distribution:  \n",
    "-  **Low State**: 7.8%  \n",
    "-  **Moderate State**: 55.7%  \n",
    "-  **High State**: 36.5%"
   ]
  },
  {
   "cell_type": "markdown",
   "id": "c8812204-41d9-46eb-8586-04f244da01f0",
   "metadata": {},
   "source": [
    "**Transition Matrix Interpretation**:\n",
    "\n",
    "- **Persistence of High Pollution**: The high probability of remaining in the 'High' AQI state indicates a tendency for prolonged periods of poor air quality.\n",
    "- **Moderate as a Common State**: The 'Moderate' state has a high probability of persisting, suggesting it's a common air quality condition.\n",
    "- **Low Pollution Less Stable**: The 'Low' pollution state is less likely to persist, often transitioning to 'Moderate'.\n",
    "\n",
    "\n",
    "**Steady-State Analysis**:\n",
    "\n",
    "- **Long-Term Behavior**: Over time, the system is expected to be in the 'Moderate' AQI state most frequently, followed by 'High' and 'Low'.\n",
    "- **Policy Implications**: These insights can guide long-term air quality management strategies, emphasizing the need for interventions that can shift the balance towards lower AQI states.\n",
    "\n",
    "  \n",
    "**Applications**:\n",
    "\n",
    "- **Predictive Tool for Air Quality Management**: Understanding the transition probabilities can aid in forecasting future air quality states, allowing for proactive measures.\n",
    "- **Resource Allocation**: Helps in planning where and when to allocate resources for air quality improvement.\n",
    "\n",
    "  \n",
    "**Limitations**:\n",
    "\n",
    "- **Assumption of Independence**: Markov Chains assume that future states depend only on the current state, not on the sequence of events that preceded it. This may oversimplify the complex dynamics of air quality.\n",
    "- **Data-Driven**: The analysis is highly dependent on the specific data used. Different time frames or locations might exhibit different transition dynamics."
   ]
  },
  {
   "cell_type": "markdown",
   "id": "b51b8d33-cd16-4b49-b929-6c38b052d8f6",
   "metadata": {},
   "source": [
    "## 3 Steady-State Analysis"
   ]
  },
  {
   "cell_type": "code",
   "execution_count": 12,
   "id": "c047587c-3476-45f6-9e92-6d91818696f1",
   "metadata": {},
   "outputs": [
    {
     "data": {
      "text/plain": [
       "Low         0.077662\n",
       "Moderate    0.556709\n",
       "High        0.365629\n",
       "dtype: float64"
      ]
     },
     "execution_count": 12,
     "metadata": {},
     "output_type": "execute_result"
    }
   ],
   "source": [
    "def calculate_steady_state(transition_matrix):\n",
    "    # Compute the eigenvalues and eigenvectors\n",
    "    eigenvalues, eigenvectors = np.linalg.eig(transition_matrix.T)\n",
    "\n",
    "    # Find the eigenvector corresponding to the eigenvalue of 1\n",
    "    eigenvector = eigenvectors[:, np.isclose(eigenvalues, 1)].real\n",
    "\n",
    "    # Normalize the eigenvector to get the steady-state distribution\n",
    "    steady_state = eigenvector / eigenvector.sum()\n",
    "    return steady_state.flatten()\n",
    "\n",
    "# Calculate the steady state distribution\n",
    "steady_state = calculate_steady_state(transition_matrix)\n",
    "steady_state_distribution = pd.Series(steady_state, index=transition_matrix.columns)\n",
    "\n",
    "steady_state_distribution"
   ]
  },
  {
   "cell_type": "markdown",
   "id": "8ffc4769-b689-4c5b-95a5-572ae10ed400",
   "metadata": {},
   "source": [
    "This distribution represents the long-term behavior of the air quality index in the dataset. It suggests that, over time:  \n",
    "\n",
    "- The system is expected to spend about 55.7% of the time in a 'Moderate' AQI state.\n",
    "- The 'High' AQI state is also significant, with the system being in this state about 36.5% of the time.\n",
    "- The 'Low' AQI state is the least common, with the system only being in this state about 7.8% of the time.\n",
    "This analysis provides insights into the typical air quality conditions experienced in the area from which the data was collected. It suggests that moderate to high pollution levels are more common than low pollution levels."
   ]
  },
  {
   "cell_type": "markdown",
   "id": "f36489ce-4e1f-446f-81c0-4d66e4114212",
   "metadata": {},
   "source": [
    "## 4 Associative Classification Analysis"
   ]
  },
  {
   "cell_type": "markdown",
   "id": "842e5873-82f9-4024-9933-6064aa60398d",
   "metadata": {},
   "source": [
    "Data Preprocessing: Convert numeric pollutant levels into categorical data (e.g., low, medium, high levels)."
   ]
  },
  {
   "cell_type": "code",
   "execution_count": 13,
   "id": "f9e207da-eb00-4367-ad33-138d2cd0e27e",
   "metadata": {},
   "outputs": [
    {
     "data": {
      "text/html": [
       "<div>\n",
       "<style scoped>\n",
       "    .dataframe tbody tr th:only-of-type {\n",
       "        vertical-align: middle;\n",
       "    }\n",
       "\n",
       "    .dataframe tbody tr th {\n",
       "        vertical-align: top;\n",
       "    }\n",
       "\n",
       "    .dataframe thead th {\n",
       "        text-align: right;\n",
       "    }\n",
       "</style>\n",
       "<table border=\"1\" class=\"dataframe\">\n",
       "  <thead>\n",
       "    <tr style=\"text-align: right;\">\n",
       "      <th></th>\n",
       "      <th>time</th>\n",
       "      <th>AQI</th>\n",
       "      <th>PM25_Category</th>\n",
       "      <th>PM10_Category</th>\n",
       "      <th>So2_Category</th>\n",
       "      <th>No2_Category</th>\n",
       "      <th>Co_Category</th>\n",
       "      <th>O3_Category</th>\n",
       "    </tr>\n",
       "  </thead>\n",
       "  <tbody>\n",
       "    <tr>\n",
       "      <th>0</th>\n",
       "      <td>2022/3/1 0:00</td>\n",
       "      <td>112</td>\n",
       "      <td>Low</td>\n",
       "      <td>Medium</td>\n",
       "      <td>Low</td>\n",
       "      <td>Low</td>\n",
       "      <td>Low</td>\n",
       "      <td>Medium</td>\n",
       "    </tr>\n",
       "    <tr>\n",
       "      <th>1</th>\n",
       "      <td>2022/3/2 0:00</td>\n",
       "      <td>162</td>\n",
       "      <td>Low</td>\n",
       "      <td>Medium</td>\n",
       "      <td>Medium</td>\n",
       "      <td>Medium</td>\n",
       "      <td>Medium</td>\n",
       "      <td>Medium</td>\n",
       "    </tr>\n",
       "    <tr>\n",
       "      <th>2</th>\n",
       "      <td>2022/3/3 0:00</td>\n",
       "      <td>186</td>\n",
       "      <td>Medium</td>\n",
       "      <td>Medium</td>\n",
       "      <td>Medium</td>\n",
       "      <td>High</td>\n",
       "      <td>Medium</td>\n",
       "      <td>Medium</td>\n",
       "    </tr>\n",
       "    <tr>\n",
       "      <th>3</th>\n",
       "      <td>2022/3/4 0:00</td>\n",
       "      <td>286</td>\n",
       "      <td>Low</td>\n",
       "      <td>High</td>\n",
       "      <td>Medium</td>\n",
       "      <td>Medium</td>\n",
       "      <td>Low</td>\n",
       "      <td>Medium</td>\n",
       "    </tr>\n",
       "    <tr>\n",
       "      <th>4</th>\n",
       "      <td>2022/3/5 0:00</td>\n",
       "      <td>285</td>\n",
       "      <td>Low</td>\n",
       "      <td>High</td>\n",
       "      <td>Medium</td>\n",
       "      <td>Low</td>\n",
       "      <td>Low</td>\n",
       "      <td>Medium</td>\n",
       "    </tr>\n",
       "  </tbody>\n",
       "</table>\n",
       "</div>"
      ],
      "text/plain": [
       "            time  AQI PM25_Category PM10_Category So2_Category No2_Category  \\\n",
       "0  2022/3/1 0:00  112           Low        Medium          Low          Low   \n",
       "1  2022/3/2 0:00  162           Low        Medium       Medium       Medium   \n",
       "2  2022/3/3 0:00  186        Medium        Medium       Medium         High   \n",
       "3  2022/3/4 0:00  286           Low          High       Medium       Medium   \n",
       "4  2022/3/5 0:00  285           Low          High       Medium          Low   \n",
       "\n",
       "  Co_Category O3_Category  \n",
       "0         Low      Medium  \n",
       "1      Medium      Medium  \n",
       "2      Medium      Medium  \n",
       "3         Low      Medium  \n",
       "4         Low      Medium  "
      ]
     },
     "execution_count": 13,
     "metadata": {},
     "output_type": "execute_result"
    }
   ],
   "source": [
    "def categorize_pollutant(value, low_threshold, high_threshold):\n",
    "    \"\"\"Categorize a pollutant value into low, medium, or high.\"\"\"\n",
    "    if value <= low_threshold:\n",
    "        return 'Low'\n",
    "    elif low_threshold < value <= high_threshold:\n",
    "        return 'Medium'\n",
    "    else:\n",
    "        return 'High'\n",
    "\n",
    "# Determine thresholds for each pollutant\n",
    "pollutants = ['PM25', 'PM10', 'So2', 'No2', 'Co', 'O3']\n",
    "thresholds = {}\n",
    "\n",
    "for pollutant in pollutants:\n",
    "    thresholds[pollutant] = {\n",
    "        'low': uaq_data[pollutant].quantile(0.33),\n",
    "        'high': uaq_data[pollutant].quantile(0.66)\n",
    "    }\n",
    "\n",
    "# Categorize each pollutant\n",
    "for pollutant in pollutants:\n",
    "    low_threshold = thresholds[pollutant]['low']\n",
    "    high_threshold = thresholds[pollutant]['high']\n",
    "    uaq_data[pollutant + '_Category'] = uaq_data[pollutant].apply(\n",
    "        lambda x: categorize_pollutant(x, low_threshold, high_threshold))\n",
    "\n",
    "# Display the first few rows to verify the categorization\n",
    "uaq_data[['time', 'AQI'] + [p + '_Category' for p in pollutants]].head()"
   ]
  },
  {
   "cell_type": "code",
   "execution_count": 14,
   "id": "29013139-8c0a-4298-85ed-e585cdc12e65",
   "metadata": {},
   "outputs": [
    {
     "data": {
      "text/html": [
       "<div>\n",
       "<style scoped>\n",
       "    .dataframe tbody tr th:only-of-type {\n",
       "        vertical-align: middle;\n",
       "    }\n",
       "\n",
       "    .dataframe tbody tr th {\n",
       "        vertical-align: top;\n",
       "    }\n",
       "\n",
       "    .dataframe thead th {\n",
       "        text-align: right;\n",
       "    }\n",
       "</style>\n",
       "<table border=\"1\" class=\"dataframe\">\n",
       "  <thead>\n",
       "    <tr style=\"text-align: right;\">\n",
       "      <th></th>\n",
       "    </tr>\n",
       "  </thead>\n",
       "  <tbody>\n",
       "  </tbody>\n",
       "</table>\n",
       "</div>"
      ],
      "text/plain": [
       "Empty DataFrame\n",
       "Columns: []\n",
       "Index: []"
      ]
     },
     "execution_count": 14,
     "metadata": {},
     "output_type": "execute_result"
    }
   ],
   "source": [
    "from itertools import combinations\n",
    "\n",
    "def generate_association_rules(data, features, target, min_support=0.05, min_confidence=0.5):\n",
    "    \"\"\"Generate association rules from categorical data.\"\"\"\n",
    "    rules = []\n",
    "    feature_combinations = sum([list(combinations(features, i)) for i in range(1, len(features) + 1)], [])\n",
    "    \n",
    "    for feature_set in feature_combinations:\n",
    "        # Calculate support for the feature combination\n",
    "        feature_counts = data.groupby(list(feature_set)).size()\n",
    "        total_count = len(data)\n",
    "        support = feature_counts / total_count\n",
    "\n",
    "        # Filter by minimum support\n",
    "        frequent_feature_sets = support[support >= min_support]\n",
    "\n",
    "        for feature_values, feature_support in frequent_feature_sets.items():\n",
    "            # Single feature to multiple features\n",
    "            if not isinstance(feature_values, tuple):\n",
    "                feature_values = (feature_values,)\n",
    "\n",
    "            # Calculate confidence for the rule\n",
    "            rule_antecedent = dict(zip(feature_set, feature_values))\n",
    "            rule_consequent_counts = data[data[list(rule_antecedent)] == pd.Series(rule_antecedent)].groupby(target).size()\n",
    "            rule_confidence = rule_consequent_counts / feature_counts.loc[feature_values]\n",
    "\n",
    "            # Filter by minimum confidence\n",
    "            significant_rules = rule_confidence[rule_confidence >= min_confidence]\n",
    "\n",
    "            for consequent, confidence in significant_rules.items():\n",
    "                rules.append({\n",
    "                    'antecedent': rule_antecedent,\n",
    "                    'consequent': consequent,\n",
    "                    'support': feature_support,\n",
    "                    'confidence': confidence\n",
    "                })\n",
    "\n",
    "    return pd.DataFrame(rules)\n",
    "\n",
    "# Generate association rules\n",
    "pollutant_categories = [p + '_Category' for p in pollutants]\n",
    "association_rules = generate_association_rules(uaq_data, pollutant_categories, 'AQI_Category')\n",
    "\n",
    "# Display some of the generated rules\n",
    "association_rules.head()"
   ]
  },
  {
   "cell_type": "code",
   "execution_count": 15,
   "id": "9e15baaf-65df-4b0a-81c1-7d2396d6f5e6",
   "metadata": {},
   "outputs": [
    {
     "data": {
      "text/html": [
       "<div>\n",
       "<style scoped>\n",
       "    .dataframe tbody tr th:only-of-type {\n",
       "        vertical-align: middle;\n",
       "    }\n",
       "\n",
       "    .dataframe tbody tr th {\n",
       "        vertical-align: top;\n",
       "    }\n",
       "\n",
       "    .dataframe thead th {\n",
       "        text-align: right;\n",
       "    }\n",
       "</style>\n",
       "<table border=\"1\" class=\"dataframe\">\n",
       "  <thead>\n",
       "    <tr style=\"text-align: right;\">\n",
       "      <th></th>\n",
       "    </tr>\n",
       "  </thead>\n",
       "  <tbody>\n",
       "  </tbody>\n",
       "</table>\n",
       "</div>"
      ],
      "text/plain": [
       "Empty DataFrame\n",
       "Columns: []\n",
       "Index: []"
      ]
     },
     "execution_count": 15,
     "metadata": {},
     "output_type": "execute_result"
    }
   ],
   "source": [
    "# Lowering the minimum support and confidence thresholds\n",
    "association_rules = generate_association_rules(uaq_data, pollutant_categories, 'AQI_Category', min_support=0.01, min_confidence=0.3)\n",
    "\n",
    "# Display some of the generated rules\n",
    "association_rules.head()"
   ]
  },
  {
   "cell_type": "markdown",
   "id": "4c3edc14-2ff1-4979-8912-59bab551f310",
   "metadata": {},
   "source": [
    "No association rules have been generated. This could indicate that the relationships between individual pollutant levels and AQI categories are not strong or consistent enough to form clear rules in this dataset."
   ]
  },
  {
   "cell_type": "markdown",
   "id": "6a620bf2-39af-49a1-8355-9dac183557b4",
   "metadata": {},
   "source": [
    "## 5 Gradient Descent Optimization"
   ]
  },
  {
   "cell_type": "code",
   "execution_count": 16,
   "id": "5472c741-d2c3-4827-9349-0a204d3a773a",
   "metadata": {},
   "outputs": [
    {
     "name": "stderr",
     "output_type": "stream",
     "text": [
      "D:\\anaconda\\envs\\DSAI1\\lib\\site-packages\\numpy\\core\\_methods.py:179: RuntimeWarning: overflow encountered in reduce\n",
      "  ret = umr_sum(arr, axis, dtype, out, keepdims, where=where)\n",
      "C:\\Users\\Chenxi\\AppData\\Local\\Temp\\ipykernel_3076\\3260185087.py:5: RuntimeWarning: overflow encountered in square\n",
      "  mse = (error ** 2).mean()\n"
     ]
    },
    {
     "data": {
      "text/plain": [
       "(array([1.03481193e+233, 9.41974864e+234, 1.63219814e+235, 2.87273827e+234,\n",
       "        4.30987578e+234, 1.58560958e+233, 6.86020506e+234]),\n",
       " inf)"
      ]
     },
     "execution_count": 16,
     "metadata": {},
     "output_type": "execute_result"
    }
   ],
   "source": [
    "def mean_squared_error(X, y, theta):\n",
    "    \"\"\"Calculate the mean squared error.\"\"\"\n",
    "    predictions = X @ theta\n",
    "    error = predictions - y\n",
    "    mse = (error ** 2).mean()\n",
    "    return mse\n",
    "\n",
    "def gradient_descent(X, y, theta, learning_rate, iterations):\n",
    "    \"\"\"Perform gradient descent to minimize MSE.\"\"\"\n",
    "    m = len(y)\n",
    "    cost_history = []\n",
    "\n",
    "    for _ in range(iterations):\n",
    "        # Gradient of the MSE cost function\n",
    "        gradient = (1/m) * X.T @ (X @ theta - y)\n",
    "        \n",
    "        # Update the parameters\n",
    "        theta = theta - learning_rate * gradient\n",
    "\n",
    "        # Save the cost for this iteration\n",
    "        cost_history.append(mean_squared_error(X, y, theta))\n",
    "\n",
    "    return theta, cost_history\n",
    "\n",
    "# Initial parameters (from our previous linear regression)\n",
    "initial_theta = theta\n",
    "\n",
    "# Parameters for gradient descent\n",
    "learning_rate = 0.01\n",
    "iterations = 100\n",
    "\n",
    "# Perform gradient descent\n",
    "optimized_theta, cost_history = gradient_descent(X, y, initial_theta, learning_rate, iterations)\n",
    "\n",
    "optimized_theta, cost_history[-1]  # Display the optimized parameters and the final cost"
   ]
  },
  {
   "cell_type": "code",
   "execution_count": 17,
   "id": "c5e2176a-af18-4aea-8eff-bb6463ee98f7",
   "metadata": {},
   "outputs": [
    {
     "name": "stderr",
     "output_type": "stream",
     "text": [
      "C:\\Users\\Chenxi\\AppData\\Local\\Temp\\ipykernel_3076\\3260185087.py:5: RuntimeWarning: overflow encountered in square\n",
      "  mse = (error ** 2).mean()\n",
      "C:\\Users\\Chenxi\\AppData\\Local\\Temp\\ipykernel_3076\\3260185087.py:15: RuntimeWarning: overflow encountered in matmul\n",
      "  gradient = (1/m) * X.T @ (X @ theta - y)\n",
      "C:\\Users\\Chenxi\\AppData\\Local\\Temp\\ipykernel_3076\\3260185087.py:18: RuntimeWarning: invalid value encountered in subtract\n",
      "  theta = theta - learning_rate * gradient\n"
     ]
    },
    {
     "data": {
      "text/plain": [
       "(array([nan, nan, nan, nan, nan, nan, nan]), nan)"
      ]
     },
     "execution_count": 17,
     "metadata": {},
     "output_type": "execute_result"
    }
   ],
   "source": [
    "# Adjust parameters for gradient descent\n",
    "adjusted_learning_rate = 0.0001\n",
    "adjusted_iterations = 1000\n",
    "\n",
    "# Reinitialize the parameters to the original ones\n",
    "initial_theta = np.array([11.21, 0.575, 0.429, -0.051, -0.111, 0.302, 0.087])\n",
    "\n",
    "# Perform gradient descent with adjusted parameters\n",
    "optimized_theta, cost_history = gradient_descent(X, y, initial_theta, adjusted_learning_rate, adjusted_iterations)\n",
    "\n",
    "optimized_theta, cost_history[-1]  # Display the optimized parameters and the final cost"
   ]
  },
  {
   "cell_type": "code",
   "execution_count": 18,
   "id": "f1294671-05aa-4a06-83f5-e2b7355f67d6",
   "metadata": {},
   "outputs": [
    {
     "data": {
      "text/plain": [
       "(array([19.98075634,  5.10869136,  5.05176729,  1.89032096,  2.91126477,\n",
       "         3.69611578, -1.15225812]),\n",
       " 8765.281328289293)"
      ]
     },
     "execution_count": 18,
     "metadata": {},
     "output_type": "execute_result"
    }
   ],
   "source": [
    "def normalize_features(X):\n",
    "    \"\"\"Normalize the features in each column to have a mean of 0 and a standard deviation of 1.\"\"\"\n",
    "    mean = np.mean(X, axis=0)\n",
    "    std = np.std(X, axis=0)\n",
    "    X_normalized = (X - mean) / std\n",
    "    return X_normalized, mean, std\n",
    "\n",
    "# Normalize the feature data (excluding the intercept term)\n",
    "X_normalized, mean, std = normalize_features(X[:, 1:])\n",
    "\n",
    "# Add the intercept term back\n",
    "X_normalized = np.hstack([np.ones((X_normalized.shape[0], 1)), X_normalized])\n",
    "\n",
    "# Re-run gradient descent with normalized data\n",
    "optimized_theta, cost_history = gradient_descent(X_normalized, y, initial_theta, adjusted_learning_rate, adjusted_iterations)\n",
    "\n",
    "optimized_theta, cost_history[-1]  # Display the optimized parameters and the final cost"
   ]
  },
  {
   "cell_type": "markdown",
   "id": "38d125e5-6d7b-4660-9a39-142e6206f151",
   "metadata": {},
   "source": [
    "**Optimized Parameters**: Array of coefficients for each feature (including the intercept).  \n",
    "**Final Cost (MSE)**: 8765.28"
   ]
  },
  {
   "cell_type": "markdown",
   "id": "ff7691d8-8d87-4339-953a-b68080170d37",
   "metadata": {},
   "source": [
    "## 6 Q-Learning"
   ]
  },
  {
   "cell_type": "code",
   "execution_count": 19,
   "id": "7aaf4122-7aae-4dc3-89d3-5f6e65638aa8",
   "metadata": {},
   "outputs": [
    {
     "data": {
      "text/html": [
       "<div>\n",
       "<style scoped>\n",
       "    .dataframe tbody tr th:only-of-type {\n",
       "        vertical-align: middle;\n",
       "    }\n",
       "\n",
       "    .dataframe tbody tr th {\n",
       "        vertical-align: top;\n",
       "    }\n",
       "\n",
       "    .dataframe thead th {\n",
       "        text-align: right;\n",
       "    }\n",
       "</style>\n",
       "<table border=\"1\" class=\"dataframe\">\n",
       "  <thead>\n",
       "    <tr style=\"text-align: right;\">\n",
       "      <th></th>\n",
       "      <th>Increase Measures</th>\n",
       "      <th>Maintain Measures</th>\n",
       "      <th>Decrease Measures</th>\n",
       "    </tr>\n",
       "  </thead>\n",
       "  <tbody>\n",
       "    <tr>\n",
       "      <th>Low</th>\n",
       "      <td>8.0</td>\n",
       "      <td>8.0</td>\n",
       "      <td>10.0</td>\n",
       "    </tr>\n",
       "    <tr>\n",
       "      <th>Moderate</th>\n",
       "      <td>8.0</td>\n",
       "      <td>10.0</td>\n",
       "      <td>8.0</td>\n",
       "    </tr>\n",
       "    <tr>\n",
       "      <th>High</th>\n",
       "      <td>10.0</td>\n",
       "      <td>8.0</td>\n",
       "      <td>8.0</td>\n",
       "    </tr>\n",
       "  </tbody>\n",
       "</table>\n",
       "</div>"
      ],
      "text/plain": [
       "          Increase Measures  Maintain Measures  Decrease Measures\n",
       "Low                     8.0                8.0               10.0\n",
       "Moderate                8.0               10.0                8.0\n",
       "High                   10.0                8.0                8.0"
      ]
     },
     "execution_count": 19,
     "metadata": {},
     "output_type": "execute_result"
    }
   ],
   "source": [
    "import numpy as np\n",
    "import random\n",
    "\n",
    "# Define the states and actions\n",
    "states = ['Low', 'Moderate', 'High']\n",
    "actions = ['Increase Measures', 'Maintain Measures', 'Decrease Measures']\n",
    "\n",
    "# Number of states and actions\n",
    "n_states = len(states)\n",
    "n_actions = len(actions)\n",
    "\n",
    "# Initialize the Q-table to zero\n",
    "Q = np.zeros((n_states, n_actions))\n",
    "\n",
    "# Define a simple reward function for the states and actions\n",
    "def get_reward(current_state, action):\n",
    "    if current_state == 'High':\n",
    "        return 1 if action == 'Increase Measures' else -1\n",
    "    elif current_state == 'Moderate':\n",
    "        return 1 if action == 'Maintain Measures' else -1\n",
    "    else:  # Low\n",
    "        return 1 if action == 'Decrease Measures' else -1\n",
    "\n",
    "# Parameters for Q-learning\n",
    "learning_rate = 0.1\n",
    "discount_factor = 0.9\n",
    "epsilon = 0.3  # Exploration rate\n",
    "num_episodes = 1000\n",
    "\n",
    "# Q-Learning algorithm\n",
    "for _ in range(num_episodes):\n",
    "    current_state = random.choice(states)  # Start from a random state\n",
    "\n",
    "    for _ in range(100):  # 100 steps in each episode\n",
    "        # Exploration-exploitation tradeoff\n",
    "        if random.uniform(0, 1) < epsilon:\n",
    "            action = random.choice(actions)  # Explore action space\n",
    "        else:\n",
    "            action = actions[np.argmax(Q[states.index(current_state)])]  # Exploit learned values\n",
    "\n",
    "        # Take action and observe reward\n",
    "        reward = get_reward(current_state, action)\n",
    "\n",
    "        # Update Q-Table using the Bellman equation\n",
    "        old_value = Q[states.index(current_state), actions.index(action)]\n",
    "        next_max = np.max(Q[states.index(current_state)])\n",
    "\n",
    "        new_value = (1 - learning_rate) * old_value + learning_rate * (reward + discount_factor * next_max)\n",
    "        Q[states.index(current_state), actions.index(action)] = new_value\n",
    "\n",
    "# Display the Q-table\n",
    "Q_table = pd.DataFrame(Q, index=states, columns=actions)\n",
    "Q_table"
   ]
  },
  {
   "cell_type": "markdown",
   "id": "2059610a-77c5-4d9c-b8f0-b531acfb8902",
   "metadata": {},
   "source": [
    "**High State**: The best action is to 'Increase Measures', which aligns with intuition that more aggressive measures are needed when air quality is poor.  \n",
    "**Moderate State**: The 'Maintain Measures' action is optimal, suggesting that maintaining current measures is effective in keeping air quality at a moderate level.  \n",
    "**Low State**: The 'Decrease Measures' action has the highest value, indicating that it might be safe to reduce measures when air quality is good."
   ]
  },
  {
   "cell_type": "markdown",
   "id": "889eaa8f-1e5a-48b3-875d-40303a40b3a3",
   "metadata": {},
   "source": [
    "## 7 PCA using Eigenvalues and Eigenvectors"
   ]
  },
  {
   "cell_type": "code",
   "execution_count": 20,
   "id": "814ea257-b725-4e14-891e-4e4b5b463a89",
   "metadata": {},
   "outputs": [
    {
     "data": {
      "text/plain": [
       "[(3.9968143553669235,\n",
       "  array([-0.4479668 , -0.42912736, -0.35647128, -0.44981104, -0.45266441,\n",
       "          0.2843741 ])),\n",
       " (0.7972329265489093,\n",
       "  array([-0.19863632, -0.28679121, -0.19057599,  0.12491333, -0.07474633,\n",
       "         -0.90597177])),\n",
       " (0.6656196665843492,\n",
       "  array([ 0.4121618 ,  0.39946469, -0.79712311, -0.1707491 , -0.03311963,\n",
       "         -0.06995142])),\n",
       " (0.25117284162158465,\n",
       "  array([ 0.10025566, -0.45271534, -0.13784569, -0.34446221,  0.80374643,\n",
       "          0.03651927])),\n",
       " (0.20473374895033103,\n",
       "  array([ 0.12651592,  0.28191191,  0.40843198, -0.7954747 , -0.11408729,\n",
       "         -0.30316136])),\n",
       " (0.08442646092790138,\n",
       "  array([-0.75095575,  0.53814772, -0.12403892, -0.03843458,  0.35970374,\n",
       "         -0.01458945]))]"
      ]
     },
     "execution_count": 20,
     "metadata": {},
     "output_type": "execute_result"
    }
   ],
   "source": [
    "# Standardize the data (excluding the time and AQI columns)\n",
    "pollutant_data = uaq_data[pollutants]\n",
    "standardized_data = (pollutant_data - pollutant_data.mean()) / pollutant_data.std()\n",
    "\n",
    "# Calculate the covariance matrix\n",
    "covariance_matrix = np.cov(standardized_data.T)\n",
    "\n",
    "# Eigen decomposition\n",
    "eigenvalues, eigenvectors = np.linalg.eig(covariance_matrix)\n",
    "\n",
    "# Combine eigenvalues and eigenvectors\n",
    "eigen_pairs = [(np.abs(eigenvalues[i]), eigenvectors[:,i]) for i in range(len(eigenvalues))]\n",
    "eigen_pairs.sort(key=lambda x: x[0], reverse=True)\n",
    "\n",
    "# Display eigenvalues and eigenvectors\n",
    "eigen_pairs"
   ]
  },
  {
   "cell_type": "markdown",
   "id": "4bdc7d43-326c-46e6-9cfc-6e4788576dfd",
   "metadata": {},
   "source": [
    "**First Component**: Has the highest eigenvalue (approximately 3.997), indicating it captures the most variance among the pollutants.  \n",
    "**Other Components**: Have progressively lower eigenvalues, indicating they capture less variance."
   ]
  },
  {
   "cell_type": "code",
   "execution_count": 21,
   "id": "aeb42510-362b-45a6-b69e-816d3fbe8c19",
   "metadata": {},
   "outputs": [
    {
     "data": {
      "image/png": "[encoded data removed]",
      "text/plain": [
       "<Figure size 1200x600 with 2 Axes>"
      ]
     },
     "metadata": {},
     "output_type": "display_data"
    }
   ],
   "source": [
    "import matplotlib.pyplot as plt\n",
    "\n",
    "# Extract the eigenvectors (principal components)\n",
    "principal_components = np.array([pair[1] for pair in eigen_pairs])\n",
    "\n",
    "# Cumulative explained variance\n",
    "cumulative_explained_variance = np.cumsum([pair[0] for pair in eigen_pairs]) / np.sum(eigenvalues)\n",
    "\n",
    "# Plotting the principal components\n",
    "plt.figure(figsize=(12, 6))\n",
    "\n",
    "# Eigenvectors plot\n",
    "plt.subplot(1, 2, 1)\n",
    "plt.bar(range(len(pollutants)), principal_components[0, :], align='center', alpha=0.8)\n",
    "plt.xticks(range(len(pollutants)), pollutants)\n",
    "plt.xlabel('Pollutants')\n",
    "plt.ylabel('Weight')\n",
    "plt.title('First Principal Component')\n",
    "\n",
    "# Cumulative explained variance plot\n",
    "plt.subplot(1, 2, 2)\n",
    "plt.plot(range(1, len(pollutants) + 1), cumulative_explained_variance, marker='o')\n",
    "plt.xlabel('Number of Principal Components')\n",
    "plt.ylabel('Cumulative Explained Variance')\n",
    "plt.title('Cumulative Explained Variance by Principal Components')\n",
    "\n",
    "plt.tight_layout()\n",
    "plt.show()"
   ]
  },
  {
   "cell_type": "markdown",
   "id": "8be6b19a-1a87-459e-8e49-12ab92f77da8",
   "metadata": {},
   "source": [
    "**First Principal Component**:\n",
    "\n",
    "- The bar chart shows the weights of each pollutant in the first principal component.\n",
    "- Pollutants like PM2.5, PM10, No2, and Co have significant weights, indicating they are major contributors to the variance captured by this component.\n",
    "\n",
    "\n",
    "**Cumulative Explained Variance**:\n",
    "\n",
    "- The line plot illustrates how much variance is captured by each principal component.\n",
    "- The first component captures a significant portion of the variance, followed by a diminishing contribution from each subsequent component.\n",
    "- This helps to determine how many components might be necessary to capture a substantial portion of the total variance in the data."
   ]
  },
  {
   "cell_type": "code",
   "execution_count": 23,
   "id": "e0b386ae-8515-4d44-902a-284687d2dd79",
   "metadata": {},
   "outputs": [
    {
     "data": {
      "image/png": "[encoded data removed]",
      "text/plain": [
       "<Figure size 1000x800 with 1 Axes>"
      ]
     },
     "metadata": {},
     "output_type": "display_data"
    }
   ],
   "source": [
    "def biplot(data, component_1, component_2, labels):\n",
    "    \"\"\"\n",
    "    Creates a biplot of the data projected onto the first two principal components.\n",
    "    \"\"\"\n",
    "    plt.figure(figsize=(10, 8))\n",
    "    \n",
    "    # Project data onto principal components\n",
    "    projected_data = np.dot(data, np.array([component_1, component_2]).T)\n",
    "\n",
    "    # Plot the projected data points\n",
    "    plt.scatter(projected_data[:, 0], projected_data[:, 1], alpha=0.5)\n",
    "    \n",
    "    # Plot the direction and names of the variables\n",
    "    for i, label in enumerate(labels):\n",
    "        plt.arrow(0, 0, component_1[i]*5, component_2[i]*5, color='r', alpha=0.5)\n",
    "        plt.text(component_1[i]*5.2, component_2[i]*5.2, label, color='g', ha='center', va='center')\n",
    "\n",
    "    plt.xlabel('Principal Component 1')\n",
    "    plt.ylabel('Principal Component 2')\n",
    "    plt.title('Biplot of PCA')\n",
    "    plt.grid(True)\n",
    "\n",
    "# Create the biplot\n",
    "biplot(standardized_data.to_numpy(), principal_components[0], principal_components[1], pollutants)\n",
    "plt.show()"
   ]
  },
  {
   "cell_type": "markdown",
   "id": "29bc4d73-25eb-4e2a-8e66-03d855626474",
   "metadata": {},
   "source": [
    "- Pollutants that point in similar directions are positively correlated; those in opposite directions are negatively correlated.\n",
    "- The length of an arrow indicates the strength of its contribution to the principal components.\n",
    "- The projection of the data points shows the spread and clustering of the observations based on these two components."
   ]
  },
  {
   "cell_type": "markdown",
   "id": "7c3f965f-ea89-487b-83c9-0e0c53248dc3",
   "metadata": {},
   "source": [
    "### In-Depth Analysis"
   ]
  },
  {
   "cell_type": "code",
   "execution_count": 31,
   "id": "afc5ba4c-694f-45a9-bc6f-3c9142d8df37",
   "metadata": {},
   "outputs": [
    {
     "data": {
      "text/plain": [
       "([(3.9968143553669235,\n",
       "   array([-0.4479668 , -0.42912736, -0.35647128, -0.44981104, -0.45266441,\n",
       "           0.2843741 ])),\n",
       "  (0.7972329265489093,\n",
       "   array([-0.19863632, -0.28679121, -0.19057599,  0.12491333, -0.07474633,\n",
       "          -0.90597177])),\n",
       "  (0.6656196665843492,\n",
       "   array([ 0.4121618 ,  0.39946469, -0.79712311, -0.1707491 , -0.03311963,\n",
       "          -0.06995142])),\n",
       "  (0.25117284162158465,\n",
       "   array([ 0.10025566, -0.45271534, -0.13784569, -0.34446221,  0.80374643,\n",
       "           0.03651927])),\n",
       "  (0.20473374895033103,\n",
       "   array([ 0.12651592,  0.28191191,  0.40843198, -0.7954747 , -0.11408729,\n",
       "          -0.30316136])),\n",
       "  (0.08442646092790138,\n",
       "   array([-0.75095575,  0.53814772, -0.12403892, -0.03843458,  0.35970374,\n",
       "          -0.01458945]))],\n",
       " array([0.66613573, 0.79900788, 0.90994449, 0.95180663, 0.98592892,\n",
       "        1.        ]))"
      ]
     },
     "execution_count": 31,
     "metadata": {},
     "output_type": "execute_result"
    }
   ],
   "source": [
    "# Step 1: Data Standardization\n",
    "# Using the standardized data calculated earlier (standardized_data)\n",
    "\n",
    "# Step 2: Covariance Matrix Computation\n",
    "covariance_matrix = np.cov(standardized_data.T)\n",
    "\n",
    "# Step 3: Eigen Decomposition\n",
    "eigenvalues, eigenvectors = np.linalg.eig(covariance_matrix)\n",
    "\n",
    "# Organize eigenvalues and eigenvectors\n",
    "eigen_pairs = [(np.abs(eigenvalues[i]), eigenvectors[:,i]) for i in range(len(eigenvalues))]\n",
    "eigen_pairs.sort(key=lambda x: x[0], reverse=True)\n",
    "\n",
    "# Step 4: Interpretation - Cumulative Explained Variance\n",
    "cumulative_explained_variance = np.cumsum([pair[0] for pair in eigen_pairs]) / np.sum(eigenvalues)\n",
    "\n",
    "# Display the eigenvalues, eigenvectors, and cumulative explained variance\n",
    "eigen_pairs, cumulative_explained_variance"
   ]
  },
  {
   "cell_type": "markdown",
   "id": "20a8b9da-896e-4fc7-a244-b5453c597283",
   "metadata": {},
   "source": [
    "**Principal Component Significance**:\n",
    "\n",
    "- The first few components capture the majority of the variance in the dataset. This suggests that these components represent the most significant patterns in the pollutant data.\n",
    "- The relative importance of each pollutant can be inferred from its weight in these components.\n",
    "\n",
    "\n",
    "**Interpreting the Eigenvectors**:\n",
    "\n",
    "- Each eigenvector represents a principal component. The values in the eigenvectors show how each pollutant contributes to the component.\n",
    "- For instance, if certain pollutants have similar weights in a component, it might suggest they vary together in the dataset.\n",
    "\n",
    "  \n",
    "**Applications**:\n",
    "\n",
    "- **Dimensionality Reduction**: PCA can be used to reduce the number of variables in the dataset while retaining most of the information. This is useful for visualization and simplifying models.\n",
    "- **Identifying Key Pollutants**: Understanding which pollutants contribute most to the variance can help prioritize pollution control measures."
   ]
  },
  {
   "cell_type": "markdown",
   "id": "93346e61-d7f7-4008-9bc6-504db7e6511a",
   "metadata": {},
   "source": [
    "## 8 Convex Optimization"
   ]
  },
  {
   "cell_type": "code",
   "execution_count": 27,
   "id": "d4cfc3b5-4b9b-4f90-b6e1-d75e6db4ba0c",
   "metadata": {},
   "outputs": [
    {
     "data": {
      "text/plain": [
       "array([ 60.        , 100.        ,  20.        ,  35.66026134,\n",
       "         1.        ,  70.        ])"
      ]
     },
     "execution_count": 27,
     "metadata": {},
     "output_type": "execute_result"
    }
   ],
   "source": [
    "def custom_convex_optimization(pollutant_data, max_levels, learning_rate=0.01, iterations=1000):\n",
    "    \n",
    "    # Initialize pollution levels (start with the mean of the data)\n",
    "    pollution_levels = pollutant_data.mean().to_numpy()\n",
    "\n",
    "    # Iteratively adjust pollution levels\n",
    "    for _ in range(iterations):\n",
    "        # Compute the gradient of the objective function\n",
    "        gradient = 2 * (pollution_levels - pollutant_data.mean().to_numpy())\n",
    "\n",
    "        # Update pollution levels - Gradient Descent step\n",
    "        pollution_levels -= learning_rate * gradient\n",
    "\n",
    "        # Apply the constraints (ensure pollution levels do not exceed the maximum levels)\n",
    "        pollution_levels = np.minimum(pollution_levels, max_levels)\n",
    "\n",
    "    return pollution_levels\n",
    "\n",
    "# Example maximum permissible levels for each pollutant (for demonstration)\n",
    "max_pollution_levels_example = np.array([60, 100, 20, 50, 1.0, 70])  # PM2.5, PM10, So2, No2, Co, O3\n",
    "\n",
    "# Perform the custom convex optimization\n",
    "optimized_pollution_levels = custom_convex_optimization(pollutant_data, max_pollution_levels_example)\n",
    "optimized_pollution_levels"
   ]
  },
  {
   "cell_type": "markdown",
   "id": "8da11b82-ab91-44b6-912c-dcab89f74bb0",
   "metadata": {},
   "source": [
    "The convex optimization process has provided a set of optimal pollution levels, under the given constraints:\n",
    "\n",
    "- **PM2.5**: 60 (max limit reached)\n",
    "- **PM10**: 100 (max limit reached)\n",
    "- **So2**: 20 (max limit reached)\n",
    "- **No2**: 35.66\n",
    "- **Co**: 1.0 (max limit reached)\n",
    "- **O3**: 70 (max limit reached)"
   ]
  },
  {
   "cell_type": "markdown",
   "id": "3b575a6a-2bcc-434f-b61e-aad3e981ff8a",
   "metadata": {},
   "source": [
    "**Reaching Maximum Limits**: For PM2.5, PM10, So2, Co, and O3, the optimized levels are exactly at their respective maximum limits. This outcome suggests that in the effort to minimize the overall pollution (as defined by our objective function), it is optimal to allow these pollutants to reach their maximum permissible levels. This can be interpreted as these pollutants being the primary contributors to the overall pollution level under the given constraints.  \n",
    "**No2 Below Maximum Limit**: The optimized level for No2 is below its maximum limit. This indicates that, relative to other pollutants, No2 contributes less to the overall pollution level, and reducing it below the maximum limit helps minimize the overall pollution."
   ]
  },
  {
   "cell_type": "markdown",
   "id": "fd8fcb42-f4e8-4d2b-8d1c-ec857ba11b81",
   "metadata": {},
   "source": [
    "## Scenario 1: Predicting Future AQI Levels"
   ]
  },
  {
   "cell_type": "markdown",
   "id": "9d3ed0df-220c-4f74-b30b-1566d63b1f9d",
   "metadata": {},
   "source": [
    "**Hypothesis**: The levels of specific pollutants today can predict the Air Quality Index (AQI) for tomorrow. This prediction can help in issuing health advisories and preparing mitigation strategies.\n",
    "\n",
    "**Approach**: Use Linear Regression\n",
    "\n",
    "- **Problem**: Predict AQI based on current levels of PM2.5, PM10, So2, No2, Co, and O3.\n",
    "- **Application**: Apply the linear regression model we developed to predict AQI from these pollutants."
   ]
  },
  {
   "cell_type": "code",
   "execution_count": 33,
   "id": "a2eeae6b-ef26-4ca4-ade0-abc0676bf54b",
   "metadata": {},
   "outputs": [
    {
     "name": "stdout",
     "output_type": "stream",
     "text": [
      "Predicted AQI: 63.366708312\n"
     ]
    }
   ],
   "source": [
    "import numpy as np\n",
    "\n",
    "# Example pollutant levels (PM2.5, PM10, So2, No2, Co, O3)\n",
    "example_pollutant_levels = np.array([30, 80, 15, 25, 0.7, 45])  # Replace with actual values\n",
    "\n",
    "# Add an intercept term and reshape for prediction\n",
    "example_pollutant_levels = np.hstack([1, example_pollutant_levels]).reshape(1, -1)\n",
    "\n",
    "# Linear Regression coefficients (from previous analysis)\n",
    "theta = np.array([11.21395847, 0.57511814, 0.42870641, -0.05096394, -0.11083906, 0.30198856, 0.08726081])\n",
    "\n",
    "# Predict AQI\n",
    "predicted_aqi = example_pollutant_levels @ theta\n",
    "print(\"Predicted AQI:\", predicted_aqi[0])"
   ]
  },
  {
   "cell_type": "markdown",
   "id": "8c6ee4c6-bca8-4935-aba8-668fe8d073fd",
   "metadata": {},
   "source": [
    "- **Given Pollutant Levels**: PM2.5: 30, PM10: 80, So2: 15, No2: 25, Co: 0.7, O3: 45  \n",
    "- **Predicted AQI**: Approximately 63.37  \n",
    "- **Interpretation**: Based on the provided pollutant levels, the linear regression model predicts an AQI of around 63, which falls into the 'Moderate' air quality category. This prediction can be used by authorities to issue health advisories or to take preemptive measures to control pollution."
   ]
  },
  {
   "cell_type": "markdown",
   "id": "68c2ab98-1160-4d09-aed7-b5d8a77d47a0",
   "metadata": {},
   "source": [
    "## Scenario 2: Long-term Air Quality Trend Analysis"
   ]
  },
  {
   "cell_type": "markdown",
   "id": "9fb6ec27-78bc-4bca-99bf-3a3e4e4be5fb",
   "metadata": {},
   "source": [
    "**Hypothesis**: The air quality in the region follows certain transition patterns, and understanding these can help in long-term environmental planning and policy formulation.\n",
    "\n",
    "**Approach**: Use Markov Chains\n",
    "\n",
    "- **Problem**: Analyze the transition probabilities between different AQI states (Low, Moderate, High) over time.\n",
    "- **Application**: Apply the Markov Chain model to understand these transitions and predict the long-term state distribution of AQI."
   ]
  },
  {
   "cell_type": "code",
   "execution_count": 34,
   "id": "adff35dd-c9eb-49ef-b90b-86b655430db8",
   "metadata": {},
   "outputs": [
    {
     "name": "stdout",
     "output_type": "stream",
     "text": [
      "Steady-State Distribution: [0.07818325 0.55676232 0.36505443]\n"
     ]
    }
   ],
   "source": [
    "import numpy as np\n",
    "\n",
    "# Transition matrix (from previous analysis)\n",
    "transition_matrix = np.array([\n",
    "    [0.500, 0.495, 0.005],\n",
    "    [0.063, 0.741, 0.196],\n",
    "    [0.011, 0.289, 0.700]\n",
    "])\n",
    "\n",
    "# Function to calculate steady-state distribution\n",
    "def calculate_steady_state(transition_matrix):\n",
    "    eigenvalues, eigenvectors = np.linalg.eig(transition_matrix.T)\n",
    "    eigenvector = eigenvectors[:, np.isclose(eigenvalues, 1)].real\n",
    "    steady_state = eigenvector / eigenvector.sum()\n",
    "    return steady_state.flatten()\n",
    "\n",
    "# Calculate steady-state distribution\n",
    "steady_state_distribution = calculate_steady_state(transition_matrix)\n",
    "print(\"Steady-State Distribution:\", steady_state_distribution)"
   ]
  },
  {
   "cell_type": "markdown",
   "id": "6acd59b3-0e3c-45a2-998d-c7bbf5b8b8f7",
   "metadata": {},
   "source": [
    "- **Steady-State Distribution from Markov Chains**:  \n",
    "Low State: 7.8%\n",
    "Moderate State: 55.7%\n",
    "High State: 36.5%  \n",
    "- **Interpretation**: The steady-state distribution suggests that, in the long term, the air quality is most likely to be in the 'Moderate' category, with a significant probability of being 'High'. This indicates a persistent issue with air quality that may require sustained policy interventions and public health measures."
   ]
  },
  {
   "cell_type": "markdown",
   "id": "621032c8-1ee9-4a78-8900-324f5a675ca9",
   "metadata": {},
   "source": [
    "## Scenario 3: Identifying Key Pollutants for Air Quality Improvement"
   ]
  },
  {
   "cell_type": "markdown",
   "id": "276fb501-fd76-4936-b0c5-ca996a015ed2",
   "metadata": {},
   "source": [
    "**Hypothesis**: Certain pollutants have a more significant impact on the variation in air quality than others. By identifying these key pollutants, targeted interventions can be made to effectively improve air quality.\n",
    "\n",
    "**Approach**: Use Principal Component Analysis (PCA)\n",
    "\n",
    "- **Problem**: Determine which pollutants contribute most significantly to the variation in air quality.\n",
    "- **Application**: Apply PCA to the dataset to identify the principal components and analyze the contribution of each pollutant to these components.\n",
    "This scenario focuses on using PCA to uncover the most impactful pollutants in terms of air quality variation. Let's write the Python code to perform PCA on the dataset and interpret the results to identify these key pollutants."
   ]
  },
  {
   "cell_type": "code",
   "execution_count": 35,
   "id": "943daca2-0105-4634-9dfa-49ae11227dcb",
   "metadata": {},
   "outputs": [
    {
     "name": "stdout",
     "output_type": "stream",
     "text": [
      "Contribution to First Principal Component: {'PM25': -0.4479668046461705, 'PM10': -0.4291273646446476, 'So2': -0.35647128324134536, 'No2': -0.44981104063610283, 'Co': -0.4526644092485836, 'O3': 0.28437410464739055}\n",
      "Contribution to Second Principal Component: {'PM25': -0.19863632332196135, 'PM10': -0.28679121249674416, 'So2': -0.1905759876358999, 'No2': 0.12491333141213527, 'Co': -0.07474633087287978, 'O3': -0.9059717711302852}\n"
     ]
    }
   ],
   "source": [
    "import numpy as np\n",
    "\n",
    "# Assuming 'standardized_data' is the standardized pollutant data and 'pollutants' is the list of pollutant names\n",
    "\n",
    "# Calculate covariance matrix of the standardized data\n",
    "covariance_matrix = np.cov(standardized_data.T)\n",
    "\n",
    "# Compute eigenvalues and eigenvectors\n",
    "eigenvalues, eigenvectors = np.linalg.eig(covariance_matrix)\n",
    "\n",
    "# Sort eigenvalues in descending order along with their corresponding eigenvectors\n",
    "eigen_pairs = [(np.abs(eigenvalues[i]), eigenvectors[:, i]) for i in range(len(eigenvalues))]\n",
    "eigen_pairs.sort(key=lambda k: k[0], reverse=True)\n",
    "\n",
    "# Extract the first two principal components\n",
    "first_component = eigen_pairs[0][1]\n",
    "second_component = eigen_pairs[1][1]\n",
    "\n",
    "# Display the contributions of each pollutant to the first two principal components\n",
    "contribution_to_first_component = dict(zip(pollutants, first_component))\n",
    "contribution_to_second_component = dict(zip(pollutants, second_component))\n",
    "\n",
    "# Output the contributions\n",
    "print(\"Contribution to First Principal Component:\", contribution_to_first_component)\n",
    "print(\"Contribution to Second Principal Component:\", contribution_to_second_component)"
   ]
  },
  {
   "cell_type": "markdown",
   "id": "305a9cbb-7c63-4855-a749-af287a5eafc9",
   "metadata": {},
   "source": [
    "**First Principal Component**:\n",
    "\n",
    "- The negative contributions of PM2.5, PM10, So2, No2, and Co suggest they are closely related in terms of how they affect air quality.\n",
    "- The magnitude of the coefficients indicates that Co, No2, PM2.5, and PM10 are significant contributors to the variance in air quality.\n",
    "  \n",
    "**Second Principal Component**:\n",
    "\n",
    "- O3 has a large negative weight, indicating its significant role in the variance captured by this component.\n",
    "- The contributions of other pollutants are relatively smaller in comparison.\n",
    "  \n",
    "**Implications**:\n",
    "\n",
    "- **Targeted Interventions**: This analysis suggests focusing on controlling Co, No2, PM2.5, PM10, and O3 could be more effective in managing overall air quality.\n",
    "- **Policy Formulation**: These insights can guide policy decisions, prioritizing resources and measures towards controlling key pollutants."
   ]
  },
  {
   "cell_type": "markdown",
   "id": "f15056eb-3565-4630-a88a-4194b4f11aea",
   "metadata": {},
   "source": [
    "## Scenario 4: Optimizing and Analyzing Pollution Reduction Strategy"
   ]
  },
  {
   "cell_type": "markdown",
   "id": "4ca512d7-fd06-4bd6-874a-80f8abb82739",
   "metadata": {},
   "source": [
    "**Hypothesis**: A strategic reduction in certain pollutants can significantly improve overall air quality while being cost-effective. By optimizing the levels of key pollutants and analyzing their interactions, an effective pollution reduction strategy can be developed.\n",
    "\n",
    "**Approach**:  \n",
    "**Gradient Descent for Optimization**: Use this algorithm to find an optimal set of reduced pollutant levels that minimizes a defined cost function (e.g., a function representing health risks or treatment costs).\n",
    "Eigenvalue Analysis: Use this algorithm to analyze the stability and interactions of the pollutant levels, helping to understand the long-term impact of the reduction strategy.  \n",
    "**Problem**: Determine the optimal levels for key pollutants that minimize the cost function, while ensuring stability and understanding interactions among pollutants."
   ]
  },
  {
   "cell_type": "code",
   "execution_count": 38,
   "id": "47702244-e92d-4377-96ed-a9612cd84190",
   "metadata": {},
   "outputs": [
    {
     "name": "stdout",
     "output_type": "stream",
     "text": [
      "Optimized Pollution Levels: PM25    1.139470e-07\n",
      "PM10    2.032115e-07\n",
      "So2     3.731246e-08\n",
      "No2     6.001506e-08\n",
      "Co      2.110061e-09\n",
      "O3      1.187669e-07\n",
      "dtype: float64\n",
      "Eigenvalues of the Original Data: [8.21898827e+03 1.25806985e+03 3.74977707e+02 3.87653089e+02\n",
      " 7.34538232e+01 1.34709250e-01]\n"
     ]
    }
   ],
   "source": [
    "import numpy as np\n",
    "\n",
    "# Assuming 'pollutant_data' is a DataFrame containing the levels of pollutants\n",
    "\n",
    "# Define a simple cost function representing health risks or treatment costs\n",
    "def cost_function(pollution_levels):\n",
    "    return np.sum(pollution_levels ** 2)\n",
    "\n",
    "# Gradient Descent for Optimization\n",
    "def gradient_descent_optimization(data, learning_rate=0.01, iterations=1000):\n",
    "    pollution_levels = data.mean(axis=0)  # Starting point: mean pollution levels\n",
    "    for _ in range(iterations):\n",
    "        gradient = 2 * pollution_levels  # Derivative of the cost function\n",
    "        pollution_levels -= learning_rate * gradient  # Update rule\n",
    "    return pollution_levels\n",
    "\n",
    "# Perform gradient descent to find optimized pollution levels\n",
    "optimized_pollution_levels = gradient_descent_optimization(pollutant_data)\n",
    "\n",
    "# Eigenvalue Analysis on the original dataset\n",
    "def eigenvalue_analysis(data):\n",
    "    # Calculate the covariance matrix\n",
    "    covariance_matrix = np.cov(data.T)\n",
    "    # Compute eigenvalues and eigenvectors\n",
    "    eigenvalues, eigenvectors = np.linalg.eig(covariance_matrix)\n",
    "    return eigenvalues, eigenvectors\n",
    "\n",
    "# Compute eigenvalues and eigenvectors of the original data\n",
    "original_eigenvalues, original_eigenvectors = eigenvalue_analysis(pollutant_data)\n",
    "\n",
    "# Output the results\n",
    "print(\"Optimized Pollution Levels:\", optimized_pollution_levels)\n",
    "print(\"Eigenvalues of the Original Data:\", original_eigenvalues)"
   ]
  },
  {
   "cell_type": "markdown",
   "id": "531c1335-25fd-4de0-85e9-673cc02b1b6b",
   "metadata": {},
   "source": [
    "**Gradient Descent Optimization**:\n",
    "\n",
    "- The optimization aimed at minimizing the health risks or treatment costs associated with pollution levels.\n",
    "- The resulting near-zero pollutant levels suggest an ideal scenario where reducing all pollutants significantly is beneficial. However, this may not be practical or achievable in real-world conditions.\n",
    "  \n",
    "**Eigenvalue Analysis**:\n",
    "\n",
    "- Eigenvalues from the original data provide insights into the variances and correlations of different pollutants.\n",
    "- The presence of large eigenvalues indicates substantial variance in certain directions, suggesting complex interactions among pollutants.\n",
    "  \n",
    "**Implications for Policy and Environmental Management**:\n",
    "\n",
    "- **Optimization**: Emphasizes the importance of reducing key pollutants to minimize overall health risks or costs.\n",
    "- **Eigenvalue Analysis**: Offers a deeper understanding of the relationships among pollutants, which is crucial for designing effective pollution control strategies."
   ]
  },
  {
   "cell_type": "code",
   "execution_count": null,
   "id": "e0ef1995-c2f4-402c-8a40-7fb3b4cfb566",
   "metadata": {},
   "outputs": [],
   "source": []
  }
 ],
 "metadata": {
  "kernelspec": {
   "display_name": "Python 3 (ipykernel)",
   "language": "python",
   "name": "python3"
  },
  "language_info": {
   "codemirror_mode": {
    "name": "ipython",
    "version": 3
   },
   "file_extension": ".py",
   "mimetype": "text/x-python",
   "name": "python",
   "nbconvert_exporter": "python",
   "pygments_lexer": "ipython3",
   "version": "3.9.18"
  }
 },
 "nbformat": 4,
 "nbformat_minor": 5
}
